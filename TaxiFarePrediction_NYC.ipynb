{
 "cells": [
  {
   "cell_type": "code",
   "execution_count": 1,
   "metadata": {},
   "outputs": [],
   "source": [
    "import numpy as np\n",
    "import pandas as pd\n",
    "from sklearn.linear_model import LinearRegression\n",
    "import matplotlib as matplotlib\n",
    "import seaborn as sns\n",
    "from sklearn.model_selection import train_test_split\n",
    "from sklearn.metrics import mean_squared_error\n",
    "from math import sqrt\n",
    "from sklearn.ensemble import RandomForestRegressor\n",
    "import matplotlib.pyplot as plt"
   ]
  },
  {
   "cell_type": "code",
   "execution_count": 2,
   "metadata": {},
   "outputs": [
    {
     "data": {
      "text/html": [
       "<div>\n",
       "<style scoped>\n",
       "    .dataframe tbody tr th:only-of-type {\n",
       "        vertical-align: middle;\n",
       "    }\n",
       "\n",
       "    .dataframe tbody tr th {\n",
       "        vertical-align: top;\n",
       "    }\n",
       "\n",
       "    .dataframe thead th {\n",
       "        text-align: right;\n",
       "    }\n",
       "</style>\n",
       "<table border=\"1\" class=\"dataframe\">\n",
       "  <thead>\n",
       "    <tr style=\"text-align: right;\">\n",
       "      <th></th>\n",
       "      <th>key</th>\n",
       "      <th>fare_amount</th>\n",
       "      <th>pickup_datetime</th>\n",
       "      <th>pickup_longitude</th>\n",
       "      <th>pickup_latitude</th>\n",
       "      <th>dropoff_longitude</th>\n",
       "      <th>dropoff_latitude</th>\n",
       "      <th>passenger_count</th>\n",
       "    </tr>\n",
       "  </thead>\n",
       "  <tbody>\n",
       "    <tr>\n",
       "      <th>0</th>\n",
       "      <td>2009-06-15 17:26:21.0000001</td>\n",
       "      <td>4.5</td>\n",
       "      <td>2009-06-15 17:26:21 UTC</td>\n",
       "      <td>-73.844311</td>\n",
       "      <td>40.721319</td>\n",
       "      <td>-73.841610</td>\n",
       "      <td>40.712278</td>\n",
       "      <td>1</td>\n",
       "    </tr>\n",
       "    <tr>\n",
       "      <th>1</th>\n",
       "      <td>2010-01-05 16:52:16.0000002</td>\n",
       "      <td>16.9</td>\n",
       "      <td>2010-01-05 16:52:16 UTC</td>\n",
       "      <td>-74.016048</td>\n",
       "      <td>40.711303</td>\n",
       "      <td>-73.979268</td>\n",
       "      <td>40.782004</td>\n",
       "      <td>1</td>\n",
       "    </tr>\n",
       "    <tr>\n",
       "      <th>2</th>\n",
       "      <td>2011-08-18 00:35:00.00000049</td>\n",
       "      <td>5.7</td>\n",
       "      <td>2011-08-18 00:35:00 UTC</td>\n",
       "      <td>-73.982738</td>\n",
       "      <td>40.761270</td>\n",
       "      <td>-73.991242</td>\n",
       "      <td>40.750562</td>\n",
       "      <td>2</td>\n",
       "    </tr>\n",
       "    <tr>\n",
       "      <th>3</th>\n",
       "      <td>2012-04-21 04:30:42.0000001</td>\n",
       "      <td>7.7</td>\n",
       "      <td>2012-04-21 04:30:42 UTC</td>\n",
       "      <td>-73.987130</td>\n",
       "      <td>40.733143</td>\n",
       "      <td>-73.991567</td>\n",
       "      <td>40.758092</td>\n",
       "      <td>1</td>\n",
       "    </tr>\n",
       "    <tr>\n",
       "      <th>4</th>\n",
       "      <td>2010-03-09 07:51:00.000000135</td>\n",
       "      <td>5.3</td>\n",
       "      <td>2010-03-09 07:51:00 UTC</td>\n",
       "      <td>-73.968095</td>\n",
       "      <td>40.768008</td>\n",
       "      <td>-73.956655</td>\n",
       "      <td>40.783762</td>\n",
       "      <td>1</td>\n",
       "    </tr>\n",
       "  </tbody>\n",
       "</table>\n",
       "</div>"
      ],
      "text/plain": [
       "                             key  fare_amount          pickup_datetime  \\\n",
       "0    2009-06-15 17:26:21.0000001          4.5  2009-06-15 17:26:21 UTC   \n",
       "1    2010-01-05 16:52:16.0000002         16.9  2010-01-05 16:52:16 UTC   \n",
       "2   2011-08-18 00:35:00.00000049          5.7  2011-08-18 00:35:00 UTC   \n",
       "3    2012-04-21 04:30:42.0000001          7.7  2012-04-21 04:30:42 UTC   \n",
       "4  2010-03-09 07:51:00.000000135          5.3  2010-03-09 07:51:00 UTC   \n",
       "\n",
       "   pickup_longitude  pickup_latitude  dropoff_longitude  dropoff_latitude  \\\n",
       "0        -73.844311        40.721319         -73.841610         40.712278   \n",
       "1        -74.016048        40.711303         -73.979268         40.782004   \n",
       "2        -73.982738        40.761270         -73.991242         40.750562   \n",
       "3        -73.987130        40.733143         -73.991567         40.758092   \n",
       "4        -73.968095        40.768008         -73.956655         40.783762   \n",
       "\n",
       "   passenger_count  \n",
       "0                1  \n",
       "1                1  \n",
       "2                2  \n",
       "3                1  \n",
       "4                1  "
      ]
     },
     "execution_count": 2,
     "metadata": {},
     "output_type": "execute_result"
    }
   ],
   "source": [
    "train=pd.read_csv(\"train.csv\",nrows=1000000)\n",
    "train.head()"
   ]
  },
  {
   "cell_type": "code",
   "execution_count": 3,
   "metadata": {},
   "outputs": [
    {
     "data": {
      "text/html": [
       "<div>\n",
       "<style scoped>\n",
       "    .dataframe tbody tr th:only-of-type {\n",
       "        vertical-align: middle;\n",
       "    }\n",
       "\n",
       "    .dataframe tbody tr th {\n",
       "        vertical-align: top;\n",
       "    }\n",
       "\n",
       "    .dataframe thead th {\n",
       "        text-align: right;\n",
       "    }\n",
       "</style>\n",
       "<table border=\"1\" class=\"dataframe\">\n",
       "  <thead>\n",
       "    <tr style=\"text-align: right;\">\n",
       "      <th></th>\n",
       "      <th>key</th>\n",
       "      <th>pickup_datetime</th>\n",
       "      <th>pickup_longitude</th>\n",
       "      <th>pickup_latitude</th>\n",
       "      <th>dropoff_longitude</th>\n",
       "      <th>dropoff_latitude</th>\n",
       "      <th>passenger_count</th>\n",
       "    </tr>\n",
       "  </thead>\n",
       "  <tbody>\n",
       "    <tr>\n",
       "      <th>0</th>\n",
       "      <td>2015-01-27 13:08:24.0000002</td>\n",
       "      <td>2015-01-27 13:08:24 UTC</td>\n",
       "      <td>-73.973320</td>\n",
       "      <td>40.763805</td>\n",
       "      <td>-73.981430</td>\n",
       "      <td>40.743835</td>\n",
       "      <td>1</td>\n",
       "    </tr>\n",
       "    <tr>\n",
       "      <th>1</th>\n",
       "      <td>2015-01-27 13:08:24.0000003</td>\n",
       "      <td>2015-01-27 13:08:24 UTC</td>\n",
       "      <td>-73.986862</td>\n",
       "      <td>40.719383</td>\n",
       "      <td>-73.998886</td>\n",
       "      <td>40.739201</td>\n",
       "      <td>1</td>\n",
       "    </tr>\n",
       "    <tr>\n",
       "      <th>2</th>\n",
       "      <td>2011-10-08 11:53:44.0000002</td>\n",
       "      <td>2011-10-08 11:53:44 UTC</td>\n",
       "      <td>-73.982524</td>\n",
       "      <td>40.751260</td>\n",
       "      <td>-73.979654</td>\n",
       "      <td>40.746139</td>\n",
       "      <td>1</td>\n",
       "    </tr>\n",
       "    <tr>\n",
       "      <th>3</th>\n",
       "      <td>2012-12-01 21:12:12.0000002</td>\n",
       "      <td>2012-12-01 21:12:12 UTC</td>\n",
       "      <td>-73.981160</td>\n",
       "      <td>40.767807</td>\n",
       "      <td>-73.990448</td>\n",
       "      <td>40.751635</td>\n",
       "      <td>1</td>\n",
       "    </tr>\n",
       "    <tr>\n",
       "      <th>4</th>\n",
       "      <td>2012-12-01 21:12:12.0000003</td>\n",
       "      <td>2012-12-01 21:12:12 UTC</td>\n",
       "      <td>-73.966046</td>\n",
       "      <td>40.789775</td>\n",
       "      <td>-73.988565</td>\n",
       "      <td>40.744427</td>\n",
       "      <td>1</td>\n",
       "    </tr>\n",
       "  </tbody>\n",
       "</table>\n",
       "</div>"
      ],
      "text/plain": [
       "                           key          pickup_datetime  pickup_longitude  \\\n",
       "0  2015-01-27 13:08:24.0000002  2015-01-27 13:08:24 UTC        -73.973320   \n",
       "1  2015-01-27 13:08:24.0000003  2015-01-27 13:08:24 UTC        -73.986862   \n",
       "2  2011-10-08 11:53:44.0000002  2011-10-08 11:53:44 UTC        -73.982524   \n",
       "3  2012-12-01 21:12:12.0000002  2012-12-01 21:12:12 UTC        -73.981160   \n",
       "4  2012-12-01 21:12:12.0000003  2012-12-01 21:12:12 UTC        -73.966046   \n",
       "\n",
       "   pickup_latitude  dropoff_longitude  dropoff_latitude  passenger_count  \n",
       "0        40.763805         -73.981430         40.743835                1  \n",
       "1        40.719383         -73.998886         40.739201                1  \n",
       "2        40.751260         -73.979654         40.746139                1  \n",
       "3        40.767807         -73.990448         40.751635                1  \n",
       "4        40.789775         -73.988565         40.744427                1  "
      ]
     },
     "execution_count": 3,
     "metadata": {},
     "output_type": "execute_result"
    }
   ],
   "source": [
    "test=pd.read_csv(\"test.csv\")\n",
    "test.head()"
   ]
  },
  {
   "cell_type": "code",
   "execution_count": 4,
   "metadata": {},
   "outputs": [
    {
     "data": {
      "text/plain": [
       "((1000000, 8), (9914, 7))"
      ]
     },
     "execution_count": 4,
     "metadata": {},
     "output_type": "execute_result"
    }
   ],
   "source": [
    "train.shape,test.shape"
   ]
  },
  {
   "cell_type": "code",
   "execution_count": 5,
   "metadata": {},
   "outputs": [
    {
     "data": {
      "text/html": [
       "<div>\n",
       "<style scoped>\n",
       "    .dataframe tbody tr th:only-of-type {\n",
       "        vertical-align: middle;\n",
       "    }\n",
       "\n",
       "    .dataframe tbody tr th {\n",
       "        vertical-align: top;\n",
       "    }\n",
       "\n",
       "    .dataframe thead th {\n",
       "        text-align: right;\n",
       "    }\n",
       "</style>\n",
       "<table border=\"1\" class=\"dataframe\">\n",
       "  <thead>\n",
       "    <tr style=\"text-align: right;\">\n",
       "      <th></th>\n",
       "      <th>fare_amount</th>\n",
       "      <th>pickup_longitude</th>\n",
       "      <th>pickup_latitude</th>\n",
       "      <th>dropoff_longitude</th>\n",
       "      <th>dropoff_latitude</th>\n",
       "      <th>passenger_count</th>\n",
       "    </tr>\n",
       "  </thead>\n",
       "  <tbody>\n",
       "    <tr>\n",
       "      <th>count</th>\n",
       "      <td>1000000.000000</td>\n",
       "      <td>1000000.000000</td>\n",
       "      <td>1000000.000000</td>\n",
       "      <td>999990.000000</td>\n",
       "      <td>999990.000000</td>\n",
       "      <td>1000000.000000</td>\n",
       "    </tr>\n",
       "    <tr>\n",
       "      <th>mean</th>\n",
       "      <td>11.348079</td>\n",
       "      <td>-72.526640</td>\n",
       "      <td>39.929008</td>\n",
       "      <td>-72.527860</td>\n",
       "      <td>39.919954</td>\n",
       "      <td>1.684924</td>\n",
       "    </tr>\n",
       "    <tr>\n",
       "      <th>std</th>\n",
       "      <td>9.822090</td>\n",
       "      <td>12.057937</td>\n",
       "      <td>7.626154</td>\n",
       "      <td>11.324494</td>\n",
       "      <td>8.201418</td>\n",
       "      <td>1.323911</td>\n",
       "    </tr>\n",
       "    <tr>\n",
       "      <th>min</th>\n",
       "      <td>-44.900000</td>\n",
       "      <td>-3377.680935</td>\n",
       "      <td>-3116.285383</td>\n",
       "      <td>-3383.296608</td>\n",
       "      <td>-3114.338567</td>\n",
       "      <td>0.000000</td>\n",
       "    </tr>\n",
       "    <tr>\n",
       "      <th>25%</th>\n",
       "      <td>6.000000</td>\n",
       "      <td>-73.992060</td>\n",
       "      <td>40.734965</td>\n",
       "      <td>-73.991385</td>\n",
       "      <td>40.734046</td>\n",
       "      <td>1.000000</td>\n",
       "    </tr>\n",
       "    <tr>\n",
       "      <th>50%</th>\n",
       "      <td>8.500000</td>\n",
       "      <td>-73.981792</td>\n",
       "      <td>40.752695</td>\n",
       "      <td>-73.980135</td>\n",
       "      <td>40.753166</td>\n",
       "      <td>1.000000</td>\n",
       "    </tr>\n",
       "    <tr>\n",
       "      <th>75%</th>\n",
       "      <td>12.500000</td>\n",
       "      <td>-73.967094</td>\n",
       "      <td>40.767154</td>\n",
       "      <td>-73.963654</td>\n",
       "      <td>40.768129</td>\n",
       "      <td>2.000000</td>\n",
       "    </tr>\n",
       "    <tr>\n",
       "      <th>max</th>\n",
       "      <td>500.000000</td>\n",
       "      <td>2522.271325</td>\n",
       "      <td>2621.628430</td>\n",
       "      <td>45.581619</td>\n",
       "      <td>1651.553433</td>\n",
       "      <td>208.000000</td>\n",
       "    </tr>\n",
       "  </tbody>\n",
       "</table>\n",
       "</div>"
      ],
      "text/plain": [
       "          fare_amount  pickup_longitude  pickup_latitude  dropoff_longitude  \\\n",
       "count  1000000.000000    1000000.000000   1000000.000000      999990.000000   \n",
       "mean        11.348079        -72.526640        39.929008         -72.527860   \n",
       "std          9.822090         12.057937         7.626154          11.324494   \n",
       "min        -44.900000      -3377.680935     -3116.285383       -3383.296608   \n",
       "25%          6.000000        -73.992060        40.734965         -73.991385   \n",
       "50%          8.500000        -73.981792        40.752695         -73.980135   \n",
       "75%         12.500000        -73.967094        40.767154         -73.963654   \n",
       "max        500.000000       2522.271325      2621.628430          45.581619   \n",
       "\n",
       "       dropoff_latitude  passenger_count  \n",
       "count     999990.000000   1000000.000000  \n",
       "mean          39.919954         1.684924  \n",
       "std            8.201418         1.323911  \n",
       "min        -3114.338567         0.000000  \n",
       "25%           40.734046         1.000000  \n",
       "50%           40.753166         1.000000  \n",
       "75%           40.768129         2.000000  \n",
       "max         1651.553433       208.000000  "
      ]
     },
     "execution_count": 5,
     "metadata": {},
     "output_type": "execute_result"
    }
   ],
   "source": [
    "train.describe()"
   ]
  },
  {
   "cell_type": "code",
   "execution_count": 6,
   "metadata": {},
   "outputs": [
    {
     "data": {
      "text/plain": [
       "key                   0\n",
       "fare_amount           0\n",
       "pickup_datetime       0\n",
       "pickup_longitude      0\n",
       "pickup_latitude       0\n",
       "dropoff_longitude    10\n",
       "dropoff_latitude     10\n",
       "passenger_count       0\n",
       "dtype: int64"
      ]
     },
     "execution_count": 6,
     "metadata": {},
     "output_type": "execute_result"
    }
   ],
   "source": [
    "train.isnull().sum()"
   ]
  },
  {
   "cell_type": "code",
   "execution_count": 7,
   "metadata": {},
   "outputs": [
    {
     "data": {
      "text/plain": [
       "key                  0\n",
       "pickup_datetime      0\n",
       "pickup_longitude     0\n",
       "pickup_latitude      0\n",
       "dropoff_longitude    0\n",
       "dropoff_latitude     0\n",
       "passenger_count      0\n",
       "dtype: int64"
      ]
     },
     "execution_count": 7,
     "metadata": {},
     "output_type": "execute_result"
    }
   ],
   "source": [
    "test.isnull().sum()"
   ]
  },
  {
   "cell_type": "code",
   "execution_count": 8,
   "metadata": {},
   "outputs": [],
   "source": [
    "train = train.drop(train[train.isnull().any(1)].index, axis = 0)"
   ]
  },
  {
   "cell_type": "code",
   "execution_count": 9,
   "metadata": {},
   "outputs": [
    {
     "data": {
      "text/plain": [
       "(999990, 8)"
      ]
     },
     "execution_count": 9,
     "metadata": {},
     "output_type": "execute_result"
    }
   ],
   "source": [
    "train.shape"
   ]
  },
  {
   "cell_type": "code",
   "execution_count": 10,
   "metadata": {},
   "outputs": [
    {
     "data": {
      "text/plain": [
       "count    999990.000000\n",
       "mean         11.347953\n",
       "std           9.821790\n",
       "min         -44.900000\n",
       "25%           6.000000\n",
       "50%           8.500000\n",
       "75%          12.500000\n",
       "max         500.000000\n",
       "Name: fare_amount, dtype: float64"
      ]
     },
     "execution_count": 10,
     "metadata": {},
     "output_type": "execute_result"
    }
   ],
   "source": [
    "train['fare_amount'].describe()"
   ]
  },
  {
   "cell_type": "code",
   "execution_count": 11,
   "metadata": {
    "scrolled": true
   },
   "outputs": [
    {
     "data": {
      "text/plain": [
       "Counter({False: 999952, True: 38})"
      ]
     },
     "execution_count": 11,
     "metadata": {},
     "output_type": "execute_result"
    }
   ],
   "source": [
    "#train[train['fare_amount']<0].count()\n",
    "from collections import Counter\n",
    "Counter(train['fare_amount']<0)"
   ]
  },
  {
   "cell_type": "code",
   "execution_count": 12,
   "metadata": {},
   "outputs": [
    {
     "data": {
      "text/plain": [
       "(999952, 8)"
      ]
     },
     "execution_count": 12,
     "metadata": {},
     "output_type": "execute_result"
    }
   ],
   "source": [
    "train = train.drop(train[train['fare_amount']<0].index, axis=0)\n",
    "train.shape"
   ]
  },
  {
   "cell_type": "code",
   "execution_count": 13,
   "metadata": {},
   "outputs": [
    {
     "data": {
      "text/plain": [
       "count    999952.000000\n",
       "mean         11.348616\n",
       "std           9.821249\n",
       "min           0.000000\n",
       "25%           6.000000\n",
       "50%           8.500000\n",
       "75%          12.500000\n",
       "max         500.000000\n",
       "Name: fare_amount, dtype: float64"
      ]
     },
     "execution_count": 13,
     "metadata": {},
     "output_type": "execute_result"
    }
   ],
   "source": [
    "train['fare_amount'].describe()"
   ]
  },
  {
   "cell_type": "markdown",
   "metadata": {},
   "source": [
    "Next check the passenger_count variable"
   ]
  },
  {
   "cell_type": "code",
   "execution_count": 14,
   "metadata": {},
   "outputs": [
    {
     "data": {
      "text/plain": [
       "count    999952.000000\n",
       "mean          1.684942\n",
       "std           1.323908\n",
       "min           0.000000\n",
       "25%           1.000000\n",
       "50%           1.000000\n",
       "75%           2.000000\n",
       "max         208.000000\n",
       "Name: passenger_count, dtype: float64"
      ]
     },
     "execution_count": 14,
     "metadata": {},
     "output_type": "execute_result"
    }
   ],
   "source": [
    "train['passenger_count'].describe()"
   ]
  },
  {
   "cell_type": "code",
   "execution_count": 15,
   "metadata": {},
   "outputs": [
    {
     "data": {
      "text/html": [
       "<div>\n",
       "<style scoped>\n",
       "    .dataframe tbody tr th:only-of-type {\n",
       "        vertical-align: middle;\n",
       "    }\n",
       "\n",
       "    .dataframe tbody tr th {\n",
       "        vertical-align: top;\n",
       "    }\n",
       "\n",
       "    .dataframe thead th {\n",
       "        text-align: right;\n",
       "    }\n",
       "</style>\n",
       "<table border=\"1\" class=\"dataframe\">\n",
       "  <thead>\n",
       "    <tr style=\"text-align: right;\">\n",
       "      <th></th>\n",
       "      <th>key</th>\n",
       "      <th>fare_amount</th>\n",
       "      <th>pickup_datetime</th>\n",
       "      <th>pickup_longitude</th>\n",
       "      <th>pickup_latitude</th>\n",
       "      <th>dropoff_longitude</th>\n",
       "      <th>dropoff_latitude</th>\n",
       "      <th>passenger_count</th>\n",
       "    </tr>\n",
       "  </thead>\n",
       "  <tbody>\n",
       "    <tr>\n",
       "      <th>929022</th>\n",
       "      <td>2009-07-30 11:54:00.000000193</td>\n",
       "      <td>3.3</td>\n",
       "      <td>2009-07-30 11:54:00 UTC</td>\n",
       "      <td>0.0</td>\n",
       "      <td>0.0</td>\n",
       "      <td>0.0</td>\n",
       "      <td>0.0</td>\n",
       "      <td>208</td>\n",
       "    </tr>\n",
       "  </tbody>\n",
       "</table>\n",
       "</div>"
      ],
      "text/plain": [
       "                                  key  fare_amount          pickup_datetime  \\\n",
       "929022  2009-07-30 11:54:00.000000193          3.3  2009-07-30 11:54:00 UTC   \n",
       "\n",
       "        pickup_longitude  pickup_latitude  dropoff_longitude  \\\n",
       "929022               0.0              0.0                0.0   \n",
       "\n",
       "        dropoff_latitude  passenger_count  \n",
       "929022               0.0              208  "
      ]
     },
     "execution_count": 15,
     "metadata": {},
     "output_type": "execute_result"
    }
   ],
   "source": [
    "train[train['passenger_count']>6]"
   ]
  },
  {
   "cell_type": "code",
   "execution_count": 16,
   "metadata": {},
   "outputs": [],
   "source": [
    "train = train.drop(train[train['passenger_count']==208].index, axis = 0)"
   ]
  },
  {
   "cell_type": "code",
   "execution_count": 17,
   "metadata": {},
   "outputs": [
    {
     "data": {
      "text/plain": [
       "count    999951.000000\n",
       "mean          1.684736\n",
       "std           1.307733\n",
       "min           0.000000\n",
       "25%           1.000000\n",
       "50%           1.000000\n",
       "75%           2.000000\n",
       "max           6.000000\n",
       "Name: passenger_count, dtype: float64"
      ]
     },
     "execution_count": 17,
     "metadata": {},
     "output_type": "execute_result"
    }
   ],
   "source": [
    "train['passenger_count'].describe()"
   ]
  },
  {
   "cell_type": "markdown",
   "metadata": {},
   "source": [
    "### Next, let us explore the pickup latitude and longitudes"
   ]
  },
  {
   "cell_type": "code",
   "execution_count": 18,
   "metadata": {},
   "outputs": [
    {
     "data": {
      "text/plain": [
       "count    999951.000000\n",
       "mean         39.929090\n",
       "std           7.626025\n",
       "min       -3116.285383\n",
       "25%          40.734965\n",
       "50%          40.752695\n",
       "75%          40.767154\n",
       "max        2621.628430\n",
       "Name: pickup_latitude, dtype: float64"
      ]
     },
     "execution_count": 18,
     "metadata": {},
     "output_type": "execute_result"
    }
   ],
   "source": [
    "train['pickup_latitude'].describe()"
   ]
  },
  {
   "cell_type": "markdown",
   "metadata": {},
   "source": [
    "Quick Googling gave me this info\n",
    "* Latitudes range from -90 to 90.\n",
    "* Longitudes range from -180 to 180.\n",
    "\n",
    "The above describe clearly shows some outliers. Let's filter them"
   ]
  },
  {
   "cell_type": "code",
   "execution_count": 19,
   "metadata": {},
   "outputs": [
    {
     "data": {
      "text/html": [
       "<div>\n",
       "<style scoped>\n",
       "    .dataframe tbody tr th:only-of-type {\n",
       "        vertical-align: middle;\n",
       "    }\n",
       "\n",
       "    .dataframe tbody tr th {\n",
       "        vertical-align: top;\n",
       "    }\n",
       "\n",
       "    .dataframe thead th {\n",
       "        text-align: right;\n",
       "    }\n",
       "</style>\n",
       "<table border=\"1\" class=\"dataframe\">\n",
       "  <thead>\n",
       "    <tr style=\"text-align: right;\">\n",
       "      <th></th>\n",
       "      <th>key</th>\n",
       "      <th>fare_amount</th>\n",
       "      <th>pickup_datetime</th>\n",
       "      <th>pickup_longitude</th>\n",
       "      <th>pickup_latitude</th>\n",
       "      <th>dropoff_longitude</th>\n",
       "      <th>dropoff_latitude</th>\n",
       "      <th>passenger_count</th>\n",
       "    </tr>\n",
       "  </thead>\n",
       "  <tbody>\n",
       "    <tr>\n",
       "      <th>5686</th>\n",
       "      <td>2011-07-30 11:15:00.00000082</td>\n",
       "      <td>3.3</td>\n",
       "      <td>2011-07-30 11:15:00 UTC</td>\n",
       "      <td>-73.947235</td>\n",
       "      <td>401.083332</td>\n",
       "      <td>-73.951392</td>\n",
       "      <td>40.778927</td>\n",
       "      <td>1</td>\n",
       "    </tr>\n",
       "    <tr>\n",
       "      <th>150559</th>\n",
       "      <td>2012-08-03 07:43:00.000000176</td>\n",
       "      <td>25.3</td>\n",
       "      <td>2012-08-03 07:43:00 UTC</td>\n",
       "      <td>0.000000</td>\n",
       "      <td>-3116.285383</td>\n",
       "      <td>-73.953600</td>\n",
       "      <td>40.787998</td>\n",
       "      <td>1</td>\n",
       "    </tr>\n",
       "    <tr>\n",
       "      <th>174356</th>\n",
       "      <td>2011-11-21 21:36:00.00000081</td>\n",
       "      <td>9.7</td>\n",
       "      <td>2011-11-21 21:36:00 UTC</td>\n",
       "      <td>2140.601160</td>\n",
       "      <td>1703.092772</td>\n",
       "      <td>-1251.195890</td>\n",
       "      <td>-1189.615440</td>\n",
       "      <td>1</td>\n",
       "    </tr>\n",
       "    <tr>\n",
       "      <th>272439</th>\n",
       "      <td>2011-04-23 02:55:00.00000012</td>\n",
       "      <td>9.3</td>\n",
       "      <td>2011-04-23 02:55:00 UTC</td>\n",
       "      <td>-74.002497</td>\n",
       "      <td>405.350000</td>\n",
       "      <td>-73.978600</td>\n",
       "      <td>40.739962</td>\n",
       "      <td>1</td>\n",
       "    </tr>\n",
       "    <tr>\n",
       "      <th>436233</th>\n",
       "      <td>2012-03-11 01:56:00.000000100</td>\n",
       "      <td>4.1</td>\n",
       "      <td>2012-03-11 01:56:00 UTC</td>\n",
       "      <td>-2986.242495</td>\n",
       "      <td>-880.627428</td>\n",
       "      <td>-3383.296608</td>\n",
       "      <td>-2559.748913</td>\n",
       "      <td>1</td>\n",
       "    </tr>\n",
       "    <tr>\n",
       "      <th>464025</th>\n",
       "      <td>2012-03-05 20:58:00.0000009</td>\n",
       "      <td>6.9</td>\n",
       "      <td>2012-03-05 20:58:00 UTC</td>\n",
       "      <td>-73.994268</td>\n",
       "      <td>404.966667</td>\n",
       "      <td>-73.973857</td>\n",
       "      <td>40.755457</td>\n",
       "      <td>1</td>\n",
       "    </tr>\n",
       "    <tr>\n",
       "      <th>505229</th>\n",
       "      <td>2012-03-05 21:08:00.0000006</td>\n",
       "      <td>9.3</td>\n",
       "      <td>2012-03-05 21:08:00 UTC</td>\n",
       "      <td>-73.994268</td>\n",
       "      <td>404.966667</td>\n",
       "      <td>-73.986387</td>\n",
       "      <td>40.776895</td>\n",
       "      <td>1</td>\n",
       "    </tr>\n",
       "    <tr>\n",
       "      <th>505583</th>\n",
       "      <td>2012-03-16 08:13:00.000000272</td>\n",
       "      <td>8.5</td>\n",
       "      <td>2012-03-16 08:13:00 UTC</td>\n",
       "      <td>-73.994277</td>\n",
       "      <td>405.133332</td>\n",
       "      <td>-73.956763</td>\n",
       "      <td>40.783737</td>\n",
       "      <td>1</td>\n",
       "    </tr>\n",
       "    <tr>\n",
       "      <th>543001</th>\n",
       "      <td>2011-10-28 13:53:00.000000178</td>\n",
       "      <td>5.3</td>\n",
       "      <td>2011-10-28 13:53:00 UTC</td>\n",
       "      <td>-3377.680935</td>\n",
       "      <td>-113.019497</td>\n",
       "      <td>-554.918693</td>\n",
       "      <td>314.794180</td>\n",
       "      <td>1</td>\n",
       "    </tr>\n",
       "    <tr>\n",
       "      <th>688685</th>\n",
       "      <td>2012-03-22 21:40:00.000000188</td>\n",
       "      <td>17.3</td>\n",
       "      <td>2012-03-22 21:40:00 UTC</td>\n",
       "      <td>2522.271325</td>\n",
       "      <td>2621.628430</td>\n",
       "      <td>-1718.117653</td>\n",
       "      <td>-2864.471003</td>\n",
       "      <td>1</td>\n",
       "    </tr>\n",
       "    <tr>\n",
       "      <th>708059</th>\n",
       "      <td>2012-05-24 22:44:00.00000088</td>\n",
       "      <td>5.3</td>\n",
       "      <td>2012-05-24 22:44:00 UTC</td>\n",
       "      <td>-73.989188</td>\n",
       "      <td>91.266667</td>\n",
       "      <td>-73.982362</td>\n",
       "      <td>40.763105</td>\n",
       "      <td>1</td>\n",
       "    </tr>\n",
       "    <tr>\n",
       "      <th>970268</th>\n",
       "      <td>2012-04-12 07:31:00.00000027</td>\n",
       "      <td>5.7</td>\n",
       "      <td>2012-04-12 07:31:00 UTC</td>\n",
       "      <td>-73.957087</td>\n",
       "      <td>424.083332</td>\n",
       "      <td>-73.968312</td>\n",
       "      <td>40.765117</td>\n",
       "      <td>1</td>\n",
       "    </tr>\n",
       "  </tbody>\n",
       "</table>\n",
       "</div>"
      ],
      "text/plain": [
       "                                  key  fare_amount          pickup_datetime  \\\n",
       "5686     2011-07-30 11:15:00.00000082          3.3  2011-07-30 11:15:00 UTC   \n",
       "150559  2012-08-03 07:43:00.000000176         25.3  2012-08-03 07:43:00 UTC   \n",
       "174356   2011-11-21 21:36:00.00000081          9.7  2011-11-21 21:36:00 UTC   \n",
       "272439   2011-04-23 02:55:00.00000012          9.3  2011-04-23 02:55:00 UTC   \n",
       "436233  2012-03-11 01:56:00.000000100          4.1  2012-03-11 01:56:00 UTC   \n",
       "464025    2012-03-05 20:58:00.0000009          6.9  2012-03-05 20:58:00 UTC   \n",
       "505229    2012-03-05 21:08:00.0000006          9.3  2012-03-05 21:08:00 UTC   \n",
       "505583  2012-03-16 08:13:00.000000272          8.5  2012-03-16 08:13:00 UTC   \n",
       "543001  2011-10-28 13:53:00.000000178          5.3  2011-10-28 13:53:00 UTC   \n",
       "688685  2012-03-22 21:40:00.000000188         17.3  2012-03-22 21:40:00 UTC   \n",
       "708059   2012-05-24 22:44:00.00000088          5.3  2012-05-24 22:44:00 UTC   \n",
       "970268   2012-04-12 07:31:00.00000027          5.7  2012-04-12 07:31:00 UTC   \n",
       "\n",
       "        pickup_longitude  pickup_latitude  dropoff_longitude  \\\n",
       "5686          -73.947235       401.083332         -73.951392   \n",
       "150559          0.000000     -3116.285383         -73.953600   \n",
       "174356       2140.601160      1703.092772       -1251.195890   \n",
       "272439        -74.002497       405.350000         -73.978600   \n",
       "436233      -2986.242495      -880.627428       -3383.296608   \n",
       "464025        -73.994268       404.966667         -73.973857   \n",
       "505229        -73.994268       404.966667         -73.986387   \n",
       "505583        -73.994277       405.133332         -73.956763   \n",
       "543001      -3377.680935      -113.019497        -554.918693   \n",
       "688685       2522.271325      2621.628430       -1718.117653   \n",
       "708059        -73.989188        91.266667         -73.982362   \n",
       "970268        -73.957087       424.083332         -73.968312   \n",
       "\n",
       "        dropoff_latitude  passenger_count  \n",
       "5686           40.778927                1  \n",
       "150559         40.787998                1  \n",
       "174356      -1189.615440                1  \n",
       "272439         40.739962                1  \n",
       "436233      -2559.748913                1  \n",
       "464025         40.755457                1  \n",
       "505229         40.776895                1  \n",
       "505583         40.783737                1  \n",
       "543001        314.794180                1  \n",
       "688685      -2864.471003                1  \n",
       "708059         40.763105                1  \n",
       "970268         40.765117                1  "
      ]
     },
     "execution_count": 19,
     "metadata": {},
     "output_type": "execute_result"
    }
   ],
   "source": [
    "train[(train['pickup_latitude']>90) | (train['pickup_latitude']<-90)]"
   ]
  },
  {
   "cell_type": "code",
   "execution_count": 20,
   "metadata": {},
   "outputs": [],
   "source": [
    "#We need to drop these outliers\n",
    "train = train.drop(((train[train['pickup_latitude']<-90])|(train[train['pickup_latitude']>90])).index, axis=0)"
   ]
  },
  {
   "cell_type": "code",
   "execution_count": 21,
   "metadata": {},
   "outputs": [
    {
     "data": {
      "text/plain": [
       "(999939, 8)"
      ]
     },
     "execution_count": 21,
     "metadata": {},
     "output_type": "execute_result"
    }
   ],
   "source": [
    "train.shape"
   ]
  },
  {
   "cell_type": "code",
   "execution_count": 22,
   "metadata": {},
   "outputs": [
    {
     "data": {
      "text/plain": [
       "count    999939.000000\n",
       "mean        -72.525443\n",
       "std          10.692752\n",
       "min       -1452.988333\n",
       "25%         -73.992060\n",
       "50%         -73.981792\n",
       "75%         -73.967095\n",
       "max          40.850357\n",
       "Name: pickup_longitude, dtype: float64"
      ]
     },
     "execution_count": 22,
     "metadata": {},
     "output_type": "execute_result"
    }
   ],
   "source": [
    "#similar operation for pickup longitude\n",
    "train['pickup_longitude'].describe()"
   ]
  },
  {
   "cell_type": "code",
   "execution_count": 23,
   "metadata": {},
   "outputs": [
    {
     "data": {
      "text/html": [
       "<div>\n",
       "<style scoped>\n",
       "    .dataframe tbody tr th:only-of-type {\n",
       "        vertical-align: middle;\n",
       "    }\n",
       "\n",
       "    .dataframe tbody tr th {\n",
       "        vertical-align: top;\n",
       "    }\n",
       "\n",
       "    .dataframe thead th {\n",
       "        text-align: right;\n",
       "    }\n",
       "</style>\n",
       "<table border=\"1\" class=\"dataframe\">\n",
       "  <thead>\n",
       "    <tr style=\"text-align: right;\">\n",
       "      <th></th>\n",
       "      <th>key</th>\n",
       "      <th>fare_amount</th>\n",
       "      <th>pickup_datetime</th>\n",
       "      <th>pickup_longitude</th>\n",
       "      <th>pickup_latitude</th>\n",
       "      <th>dropoff_longitude</th>\n",
       "      <th>dropoff_latitude</th>\n",
       "      <th>passenger_count</th>\n",
       "    </tr>\n",
       "  </thead>\n",
       "  <tbody>\n",
       "    <tr>\n",
       "      <th>60442</th>\n",
       "      <td>2012-01-12 13:36:00.000000186</td>\n",
       "      <td>4.9</td>\n",
       "      <td>2012-01-12 13:36:00 UTC</td>\n",
       "      <td>-736.550000</td>\n",
       "      <td>40.738230</td>\n",
       "      <td>-73.988742</td>\n",
       "      <td>40.748847</td>\n",
       "      <td>1</td>\n",
       "    </tr>\n",
       "    <tr>\n",
       "      <th>217355</th>\n",
       "      <td>2012-06-03 23:21:00.00000077</td>\n",
       "      <td>6.1</td>\n",
       "      <td>2012-06-03 23:21:00 UTC</td>\n",
       "      <td>-740.000000</td>\n",
       "      <td>40.747620</td>\n",
       "      <td>0.000000</td>\n",
       "      <td>0.000000</td>\n",
       "      <td>6</td>\n",
       "    </tr>\n",
       "    <tr>\n",
       "      <th>243342</th>\n",
       "      <td>2012-08-02 10:38:00.000000111</td>\n",
       "      <td>7.3</td>\n",
       "      <td>2012-08-02 10:38:00 UTC</td>\n",
       "      <td>-736.333333</td>\n",
       "      <td>40.766480</td>\n",
       "      <td>-73.987928</td>\n",
       "      <td>40.751742</td>\n",
       "      <td>3</td>\n",
       "    </tr>\n",
       "    <tr>\n",
       "      <th>351119</th>\n",
       "      <td>2012-02-03 07:53:00.000000135</td>\n",
       "      <td>4.1</td>\n",
       "      <td>2012-02-03 07:53:00 UTC</td>\n",
       "      <td>-736.483332</td>\n",
       "      <td>40.766512</td>\n",
       "      <td>-73.981992</td>\n",
       "      <td>40.771672</td>\n",
       "      <td>1</td>\n",
       "    </tr>\n",
       "    <tr>\n",
       "      <th>370663</th>\n",
       "      <td>2012-05-04 23:19:00.000000261</td>\n",
       "      <td>6.1</td>\n",
       "      <td>2012-05-04 23:19:00 UTC</td>\n",
       "      <td>-736.516667</td>\n",
       "      <td>40.719095</td>\n",
       "      <td>-74.003952</td>\n",
       "      <td>40.729860</td>\n",
       "      <td>1</td>\n",
       "    </tr>\n",
       "    <tr>\n",
       "      <th>416859</th>\n",
       "      <td>2012-07-21 15:23:00.00000093</td>\n",
       "      <td>6.5</td>\n",
       "      <td>2012-07-21 15:23:00 UTC</td>\n",
       "      <td>-736.416665</td>\n",
       "      <td>40.752285</td>\n",
       "      <td>-73.992565</td>\n",
       "      <td>40.742687</td>\n",
       "      <td>1</td>\n",
       "    </tr>\n",
       "    <tr>\n",
       "      <th>568830</th>\n",
       "      <td>2013-05-23 15:23:00.0000007</td>\n",
       "      <td>11.5</td>\n",
       "      <td>2013-05-23 15:23:00 UTC</td>\n",
       "      <td>-735.888333</td>\n",
       "      <td>40.760863</td>\n",
       "      <td>-73.989835</td>\n",
       "      <td>40.738443</td>\n",
       "      <td>5</td>\n",
       "    </tr>\n",
       "    <tr>\n",
       "      <th>675500</th>\n",
       "      <td>2011-10-28 10:53:00.00000080</td>\n",
       "      <td>16.9</td>\n",
       "      <td>2011-10-28 10:53:00 UTC</td>\n",
       "      <td>-1452.988333</td>\n",
       "      <td>40.776000</td>\n",
       "      <td>-73.989487</td>\n",
       "      <td>40.740667</td>\n",
       "      <td>2</td>\n",
       "    </tr>\n",
       "    <tr>\n",
       "      <th>837619</th>\n",
       "      <td>2012-07-17 08:38:00.000000116</td>\n",
       "      <td>39.7</td>\n",
       "      <td>2012-07-17 08:38:00 UTC</td>\n",
       "      <td>-736.000000</td>\n",
       "      <td>40.758507</td>\n",
       "      <td>0.000000</td>\n",
       "      <td>0.000000</td>\n",
       "      <td>5</td>\n",
       "    </tr>\n",
       "    <tr>\n",
       "      <th>914435</th>\n",
       "      <td>2012-03-04 00:10:00.000000131</td>\n",
       "      <td>11.7</td>\n",
       "      <td>2012-03-04 00:10:00 UTC</td>\n",
       "      <td>-736.250000</td>\n",
       "      <td>40.788027</td>\n",
       "      <td>-73.990812</td>\n",
       "      <td>40.750942</td>\n",
       "      <td>1</td>\n",
       "    </tr>\n",
       "    <tr>\n",
       "      <th>921758</th>\n",
       "      <td>2012-05-21 10:57:00.00000084</td>\n",
       "      <td>10.1</td>\n",
       "      <td>2012-05-21 10:57:00 UTC</td>\n",
       "      <td>-736.650000</td>\n",
       "      <td>40.761075</td>\n",
       "      <td>0.000000</td>\n",
       "      <td>0.000000</td>\n",
       "      <td>1</td>\n",
       "    </tr>\n",
       "  </tbody>\n",
       "</table>\n",
       "</div>"
      ],
      "text/plain": [
       "                                  key  fare_amount          pickup_datetime  \\\n",
       "60442   2012-01-12 13:36:00.000000186          4.9  2012-01-12 13:36:00 UTC   \n",
       "217355   2012-06-03 23:21:00.00000077          6.1  2012-06-03 23:21:00 UTC   \n",
       "243342  2012-08-02 10:38:00.000000111          7.3  2012-08-02 10:38:00 UTC   \n",
       "351119  2012-02-03 07:53:00.000000135          4.1  2012-02-03 07:53:00 UTC   \n",
       "370663  2012-05-04 23:19:00.000000261          6.1  2012-05-04 23:19:00 UTC   \n",
       "416859   2012-07-21 15:23:00.00000093          6.5  2012-07-21 15:23:00 UTC   \n",
       "568830    2013-05-23 15:23:00.0000007         11.5  2013-05-23 15:23:00 UTC   \n",
       "675500   2011-10-28 10:53:00.00000080         16.9  2011-10-28 10:53:00 UTC   \n",
       "837619  2012-07-17 08:38:00.000000116         39.7  2012-07-17 08:38:00 UTC   \n",
       "914435  2012-03-04 00:10:00.000000131         11.7  2012-03-04 00:10:00 UTC   \n",
       "921758   2012-05-21 10:57:00.00000084         10.1  2012-05-21 10:57:00 UTC   \n",
       "\n",
       "        pickup_longitude  pickup_latitude  dropoff_longitude  \\\n",
       "60442        -736.550000        40.738230         -73.988742   \n",
       "217355       -740.000000        40.747620           0.000000   \n",
       "243342       -736.333333        40.766480         -73.987928   \n",
       "351119       -736.483332        40.766512         -73.981992   \n",
       "370663       -736.516667        40.719095         -74.003952   \n",
       "416859       -736.416665        40.752285         -73.992565   \n",
       "568830       -735.888333        40.760863         -73.989835   \n",
       "675500      -1452.988333        40.776000         -73.989487   \n",
       "837619       -736.000000        40.758507           0.000000   \n",
       "914435       -736.250000        40.788027         -73.990812   \n",
       "921758       -736.650000        40.761075           0.000000   \n",
       "\n",
       "        dropoff_latitude  passenger_count  \n",
       "60442          40.748847                1  \n",
       "217355          0.000000                6  \n",
       "243342         40.751742                3  \n",
       "351119         40.771672                1  \n",
       "370663         40.729860                1  \n",
       "416859         40.742687                1  \n",
       "568830         40.738443                5  \n",
       "675500         40.740667                2  \n",
       "837619          0.000000                5  \n",
       "914435         40.750942                1  \n",
       "921758          0.000000                1  "
      ]
     },
     "execution_count": 23,
     "metadata": {},
     "output_type": "execute_result"
    }
   ],
   "source": [
    "train[(train['pickup_longitude']<-180) | (train['pickup_longitude']<-180)]"
   ]
  },
  {
   "cell_type": "code",
   "execution_count": 24,
   "metadata": {},
   "outputs": [],
   "source": [
    "train = train.drop(((train[train['pickup_longitude']<-180])|(train[train['pickup_longitude']>180])).index, axis=0)"
   ]
  },
  {
   "cell_type": "code",
   "execution_count": 25,
   "metadata": {},
   "outputs": [
    {
     "data": {
      "text/plain": [
       "(999928, 8)"
      ]
     },
     "execution_count": 25,
     "metadata": {},
     "output_type": "execute_result"
    }
   ],
   "source": [
    "train.shape"
   ]
  },
  {
   "cell_type": "code",
   "execution_count": 26,
   "metadata": {},
   "outputs": [
    {
     "data": {
      "text/html": [
       "<div>\n",
       "<style scoped>\n",
       "    .dataframe tbody tr th:only-of-type {\n",
       "        vertical-align: middle;\n",
       "    }\n",
       "\n",
       "    .dataframe tbody tr th {\n",
       "        vertical-align: top;\n",
       "    }\n",
       "\n",
       "    .dataframe thead th {\n",
       "        text-align: right;\n",
       "    }\n",
       "</style>\n",
       "<table border=\"1\" class=\"dataframe\">\n",
       "  <thead>\n",
       "    <tr style=\"text-align: right;\">\n",
       "      <th></th>\n",
       "      <th>key</th>\n",
       "      <th>fare_amount</th>\n",
       "      <th>pickup_datetime</th>\n",
       "      <th>pickup_longitude</th>\n",
       "      <th>pickup_latitude</th>\n",
       "      <th>dropoff_longitude</th>\n",
       "      <th>dropoff_latitude</th>\n",
       "      <th>passenger_count</th>\n",
       "    </tr>\n",
       "  </thead>\n",
       "  <tbody>\n",
       "    <tr>\n",
       "      <th>92310</th>\n",
       "      <td>2011-09-27 11:54:00.000000127</td>\n",
       "      <td>28.9</td>\n",
       "      <td>2011-09-27 11:54:00 UTC</td>\n",
       "      <td>-74.014595</td>\n",
       "      <td>40.681880</td>\n",
       "      <td>-73.973310</td>\n",
       "      <td>404.616667</td>\n",
       "      <td>1</td>\n",
       "    </tr>\n",
       "    <tr>\n",
       "      <th>181973</th>\n",
       "      <td>2012-01-03 09:04:00.000000130</td>\n",
       "      <td>6.5</td>\n",
       "      <td>2012-01-03 09:04:00 UTC</td>\n",
       "      <td>-74.008918</td>\n",
       "      <td>40.717827</td>\n",
       "      <td>-74.000855</td>\n",
       "      <td>404.133332</td>\n",
       "      <td>1</td>\n",
       "    </tr>\n",
       "    <tr>\n",
       "      <th>335675</th>\n",
       "      <td>2012-02-26 00:25:00.00000085</td>\n",
       "      <td>19.3</td>\n",
       "      <td>2012-02-26 00:25:00 UTC</td>\n",
       "      <td>-74.006457</td>\n",
       "      <td>40.743865</td>\n",
       "      <td>-73.981283</td>\n",
       "      <td>404.133332</td>\n",
       "      <td>1</td>\n",
       "    </tr>\n",
       "    <tr>\n",
       "      <th>561910</th>\n",
       "      <td>2010-08-14 03:42:59.0000001</td>\n",
       "      <td>4.5</td>\n",
       "      <td>2010-08-14 03:42:59 UTC</td>\n",
       "      <td>-73.977635</td>\n",
       "      <td>40.754687</td>\n",
       "      <td>-73.870432</td>\n",
       "      <td>405.650000</td>\n",
       "      <td>1</td>\n",
       "    </tr>\n",
       "    <tr>\n",
       "      <th>579901</th>\n",
       "      <td>2013-08-14 20:23:00.000000245</td>\n",
       "      <td>18.0</td>\n",
       "      <td>2013-08-14 20:23:00 UTC</td>\n",
       "      <td>-73.999190</td>\n",
       "      <td>40.720200</td>\n",
       "      <td>-0.360000</td>\n",
       "      <td>-3114.338567</td>\n",
       "      <td>1</td>\n",
       "    </tr>\n",
       "    <tr>\n",
       "      <th>582110</th>\n",
       "      <td>2012-05-02 14:20:00.000000131</td>\n",
       "      <td>30.5</td>\n",
       "      <td>2012-05-02 14:20:00 UTC</td>\n",
       "      <td>-73.870875</td>\n",
       "      <td>40.773792</td>\n",
       "      <td>-73.977790</td>\n",
       "      <td>404.716667</td>\n",
       "      <td>1</td>\n",
       "    </tr>\n",
       "    <tr>\n",
       "      <th>748464</th>\n",
       "      <td>2013-01-02 11:33:00.00000020</td>\n",
       "      <td>15.0</td>\n",
       "      <td>2013-01-02 11:33:00 UTC</td>\n",
       "      <td>-74.015200</td>\n",
       "      <td>40.709665</td>\n",
       "      <td>-40.719295</td>\n",
       "      <td>1651.553433</td>\n",
       "      <td>5</td>\n",
       "    </tr>\n",
       "    <tr>\n",
       "      <th>889704</th>\n",
       "      <td>2012-05-21 12:15:00.00000098</td>\n",
       "      <td>15.3</td>\n",
       "      <td>2012-05-21 12:15:00 UTC</td>\n",
       "      <td>-74.001292</td>\n",
       "      <td>40.727560</td>\n",
       "      <td>-73.953047</td>\n",
       "      <td>404.466667</td>\n",
       "      <td>1</td>\n",
       "    </tr>\n",
       "  </tbody>\n",
       "</table>\n",
       "</div>"
      ],
      "text/plain": [
       "                                  key  fare_amount          pickup_datetime  \\\n",
       "92310   2011-09-27 11:54:00.000000127         28.9  2011-09-27 11:54:00 UTC   \n",
       "181973  2012-01-03 09:04:00.000000130          6.5  2012-01-03 09:04:00 UTC   \n",
       "335675   2012-02-26 00:25:00.00000085         19.3  2012-02-26 00:25:00 UTC   \n",
       "561910    2010-08-14 03:42:59.0000001          4.5  2010-08-14 03:42:59 UTC   \n",
       "579901  2013-08-14 20:23:00.000000245         18.0  2013-08-14 20:23:00 UTC   \n",
       "582110  2012-05-02 14:20:00.000000131         30.5  2012-05-02 14:20:00 UTC   \n",
       "748464   2013-01-02 11:33:00.00000020         15.0  2013-01-02 11:33:00 UTC   \n",
       "889704   2012-05-21 12:15:00.00000098         15.3  2012-05-21 12:15:00 UTC   \n",
       "\n",
       "        pickup_longitude  pickup_latitude  dropoff_longitude  \\\n",
       "92310         -74.014595        40.681880         -73.973310   \n",
       "181973        -74.008918        40.717827         -74.000855   \n",
       "335675        -74.006457        40.743865         -73.981283   \n",
       "561910        -73.977635        40.754687         -73.870432   \n",
       "579901        -73.999190        40.720200          -0.360000   \n",
       "582110        -73.870875        40.773792         -73.977790   \n",
       "748464        -74.015200        40.709665         -40.719295   \n",
       "889704        -74.001292        40.727560         -73.953047   \n",
       "\n",
       "        dropoff_latitude  passenger_count  \n",
       "92310         404.616667                1  \n",
       "181973        404.133332                1  \n",
       "335675        404.133332                1  \n",
       "561910        405.650000                1  \n",
       "579901      -3114.338567                1  \n",
       "582110        404.716667                1  \n",
       "748464       1651.553433                5  \n",
       "889704        404.466667                1  "
      ]
     },
     "execution_count": 26,
     "metadata": {},
     "output_type": "execute_result"
    }
   ],
   "source": [
    "#similar operation for dropoff latitude and longitude\n",
    "train[(train['dropoff_latitude']<-90) | (train['dropoff_latitude']>90)]"
   ]
  },
  {
   "cell_type": "code",
   "execution_count": 27,
   "metadata": {},
   "outputs": [],
   "source": [
    "train = train.drop(((train[train['dropoff_latitude']<-90])|(train[train['dropoff_latitude']>90])).index, axis=0)"
   ]
  },
  {
   "cell_type": "code",
   "execution_count": 28,
   "metadata": {},
   "outputs": [
    {
     "data": {
      "text/plain": [
       "(999920, 8)"
      ]
     },
     "execution_count": 28,
     "metadata": {},
     "output_type": "execute_result"
    }
   ],
   "source": [
    "train.shape"
   ]
  },
  {
   "cell_type": "code",
   "execution_count": 29,
   "metadata": {},
   "outputs": [
    {
     "data": {
      "text/html": [
       "<div>\n",
       "<style scoped>\n",
       "    .dataframe tbody tr th:only-of-type {\n",
       "        vertical-align: middle;\n",
       "    }\n",
       "\n",
       "    .dataframe tbody tr th {\n",
       "        vertical-align: top;\n",
       "    }\n",
       "\n",
       "    .dataframe thead th {\n",
       "        text-align: right;\n",
       "    }\n",
       "</style>\n",
       "<table border=\"1\" class=\"dataframe\">\n",
       "  <thead>\n",
       "    <tr style=\"text-align: right;\">\n",
       "      <th></th>\n",
       "      <th>key</th>\n",
       "      <th>fare_amount</th>\n",
       "      <th>pickup_datetime</th>\n",
       "      <th>pickup_longitude</th>\n",
       "      <th>pickup_latitude</th>\n",
       "      <th>dropoff_longitude</th>\n",
       "      <th>dropoff_latitude</th>\n",
       "      <th>passenger_count</th>\n",
       "    </tr>\n",
       "  </thead>\n",
       "  <tbody>\n",
       "  </tbody>\n",
       "</table>\n",
       "</div>"
      ],
      "text/plain": [
       "Empty DataFrame\n",
       "Columns: [key, fare_amount, pickup_datetime, pickup_longitude, pickup_latitude, dropoff_longitude, dropoff_latitude, passenger_count]\n",
       "Index: []"
      ]
     },
     "execution_count": 29,
     "metadata": {},
     "output_type": "execute_result"
    }
   ],
   "source": [
    "train[train['dropoff_latitude']<-180]|train[train['dropoff_latitude']>180]"
   ]
  },
  {
   "cell_type": "code",
   "execution_count": null,
   "metadata": {},
   "outputs": [
    {
     "data": {
      "text/plain": [
       "key                   object\n",
       "fare_amount          float64\n",
       "pickup_datetime       object\n",
       "pickup_longitude     float64\n",
       "pickup_latitude      float64\n",
       "dropoff_longitude    float64\n",
       "dropoff_latitude     float64\n",
       "passenger_count        int64\n",
       "dtype: object"
      ]
     },
     "execution_count": 30,
     "metadata": {},
     "output_type": "execute_result"
    }
   ],
   "source": [
    "train.dtypes"
   ]
  },
  {
   "cell_type": "code",
   "execution_count": null,
   "metadata": {},
   "outputs": [],
   "source": [
    "train['key'] = pd.to_datetime(train['key'])\n",
    "train['pickup_datetime']  = pd.to_datetime(train['pickup_datetime'])\n",
    "test['key'] = pd.to_datetime(test['key'])\n",
    "test['pickup_datetime']  = pd.to_datetime(test['pickup_datetime'])"
   ]
  },
  {
   "cell_type": "code",
   "execution_count": null,
   "metadata": {},
   "outputs": [],
   "source": [
    "train.dtypes"
   ]
  },
  {
   "cell_type": "markdown",
   "metadata": {},
   "source": [
    "## EDA"
   ]
  },
  {
   "cell_type": "markdown",
   "metadata": {},
   "source": [
    "Now, for EDA. The following are my considerations -\n",
    "\n",
    "* Does the number of passengers affect the fare?\n",
    "* Does the date and time of pickup affect the fare?\n",
    "* Does the day of the week affect the fare?\n",
    "* Does the distance travelled affect the fare?\n",
    "\n",
    "First, let's split the datetime field 'pickup_datetime' to the following -\n",
    "\n",
    "* year\n",
    "* month\n",
    "* date\n",
    "* hour\n",
    "* day of week\n",
    "\n",
    "Using these we shall calculate the day of the week and come to our conclusions about how pickup_location affects the fare.\n",
    "###### create a new field 'distance' to fetch the distance between the pickup and the drop."
   ]
  },
  {
   "cell_type": "markdown",
   "metadata": {},
   "source": [
    "Finding distances based on Latitude and Longitude.\n",
    "\n",
    "The haversine formula determines the great-circle distance between two points on a sphere given their longitudes and latitudes\n",
    "\n",
    "Eventually, the formual boils down to the following where φ is latitude, λ is longitude, R is earth’s radius (mean radius = 6,371km) to include latitude and longitude coordinates (A and B in this case).\n",
    "\n",
    "a = sin²((φB - φA)/2) + cos φA . cos φB . sin²((λB - λA)/2)\n",
    "\n",
    "c = 2 * atan2( √a, √(1−a) )\n",
    "\n",
    "d = R ⋅ c\n",
    "\n",
    "d = Haversine distance"
   ]
  },
  {
   "cell_type": "markdown",
   "metadata": {},
   "source": [
    "##### Formula\n",
    "\n",
    "dlon = lon2 - lon1\n",
    "\n",
    "dlat = lat2 - lat1\n",
    "\n",
    "a = (sin(dlat/2))^2 + cos(lat1) cos(lat2) (sin(dlon/2))^2\n",
    "\n",
    "c = 2 * atan2( sqrt(a), sqrt(1-a) )\n",
    "\n",
    "d = R * c (where R is the radius of the Earth)"
   ]
  },
  {
   "cell_type": "code",
   "execution_count": null,
   "metadata": {},
   "outputs": [],
   "source": [
    "def haversine_distance(pickup_latitude,pickup_longitude,dropoff_latitude,dropoff_longitude):\n",
    "    data = [train, test]\n",
    "    for i in data:\n",
    "        pickup_lat  = np.radians(i[\"pickup_latitude\"])\n",
    "        pickup_lon  = np.radians(i[\"pickup_longitude\"])\n",
    "        dropoff_lat = np.radians(i[\"dropoff_latitude\"])\n",
    "        dropoff_lon = np.radians(i[\"dropoff_longitude\"])\n",
    "\n",
    "        dist_lon = dropoff_lon - pickup_lon\n",
    "        dist_lat = dropoff_lat - pickup_lat\n",
    "\n",
    "#Formula\n",
    "        R = 6371  #radius of earth in kilometers\n",
    "        a = (np.sin(dist_lat/2))**2 + np.cos(pickup_lat) * np.cos(dropoff_lat) * (np.sin(dist_lon/2))**2 \n",
    "        c = 2 * np.arctan2( np.sqrt(a), np.sqrt(1-a) ) \n",
    "        d = R * c #(where R is the radius of the Earth)\n",
    "        i['H_Distance'] = d\n",
    "    return d\n",
    "    "
   ]
  },
  {
   "cell_type": "code",
   "execution_count": null,
   "metadata": {},
   "outputs": [],
   "source": [
    "haversine_distance('pickup_latitude', 'pickup_longitude', 'dropoff_latitude', 'dropoff_longitude')"
   ]
  },
  {
   "cell_type": "code",
   "execution_count": null,
   "metadata": {},
   "outputs": [],
   "source": [
    "train.H_Distance.describe()"
   ]
  },
  {
   "cell_type": "code",
   "execution_count": null,
   "metadata": {},
   "outputs": [],
   "source": [
    "Counter(train['H_Distance']>3)"
   ]
  },
  {
   "cell_type": "code",
   "execution_count": null,
   "metadata": {},
   "outputs": [],
   "source": [
    "train.H_Distance.head()"
   ]
  },
  {
   "cell_type": "code",
   "execution_count": null,
   "metadata": {},
   "outputs": [],
   "source": [
    "test.H_Distance.head()"
   ]
  },
  {
   "cell_type": "code",
   "execution_count": null,
   "metadata": {},
   "outputs": [],
   "source": [
    "train.head()"
   ]
  },
  {
   "cell_type": "code",
   "execution_count": null,
   "metadata": {},
   "outputs": [],
   "source": [
    "test.head()"
   ]
  },
  {
   "cell_type": "code",
   "execution_count": null,
   "metadata": {},
   "outputs": [],
   "source": [
    "data = [train,test]\n",
    "for i in data:\n",
    "    i['Year'] = i['pickup_datetime'].dt.year\n",
    "    i['Month'] = i['pickup_datetime'].dt.month\n",
    "    i['Date'] = i['pickup_datetime'].dt.day\n",
    "    i['Day of Week'] = i['pickup_datetime'].dt.dayofweek\n",
    "    i['Hour'] = i['pickup_datetime'].dt.hour"
   ]
  },
  {
   "cell_type": "code",
   "execution_count": null,
   "metadata": {},
   "outputs": [],
   "source": [
    "train.head()"
   ]
  },
  {
   "cell_type": "code",
   "execution_count": null,
   "metadata": {},
   "outputs": [],
   "source": [
    "test.head()"
   ]
  },
  {
   "cell_type": "markdown",
   "metadata": {},
   "source": [
    "### 1. Does the number of passengers affect the fare?"
   ]
  },
  {
   "cell_type": "code",
   "execution_count": null,
   "metadata": {},
   "outputs": [],
   "source": [
    "plt.figure(figsize=(15,7))\n",
    "plt.hist(train['passenger_count'], bins=15)\n",
    "plt.xlabel('No. of Passengers')\n",
    "plt.ylabel('Frequency')"
   ]
  },
  {
   "cell_type": "code",
   "execution_count": null,
   "metadata": {
    "scrolled": true
   },
   "outputs": [],
   "source": [
    "plt.figure(figsize=(15,7))\n",
    "plt.scatter(x=train['passenger_count'], y=train['fare_amount'], s=1.5)\n",
    "plt.xlabel('No. of Passengers')\n",
    "plt.ylabel('Fare')"
   ]
  },
  {
   "cell_type": "markdown",
   "metadata": {},
   "source": [
    "From the above 2 graphs we can see that single passengers are the most frequent travellers, and the highest fare also seems to come from cabs which carry just 1 passenger."
   ]
  },
  {
   "cell_type": "markdown",
   "metadata": {},
   "source": [
    "### 2. Does the date and time of pickup affect the fare?"
   ]
  },
  {
   "cell_type": "code",
   "execution_count": null,
   "metadata": {},
   "outputs": [],
   "source": [
    "plt.figure(figsize=(15,7))\n",
    "plt.scatter(x=train['Date'], y=train['fare_amount'], s=1.5)\n",
    "plt.xlabel('Date')\n",
    "plt.ylabel('Fare')"
   ]
  },
  {
   "cell_type": "code",
   "execution_count": null,
   "metadata": {},
   "outputs": [],
   "source": [
    "plt.figure(figsize=(15,7))\n",
    "plt.hist(train['Hour'], bins=100)\n",
    "plt.xlabel('Hour')\n",
    "plt.ylabel('Frequency')"
   ]
  },
  {
   "cell_type": "markdown",
   "metadata": {},
   "source": [
    "The time of day definitely plays an important role. The frequency of cab rides seem to be the lowest at 5AM and the highest at 7PM."
   ]
  },
  {
   "cell_type": "code",
   "execution_count": null,
   "metadata": {},
   "outputs": [],
   "source": [
    "plt.figure(figsize=(15,7))\n",
    "plt.scatter(x=train['Hour'], y=train['fare_amount'])\n",
    "plt.xlabel('Hour')\n",
    "plt.ylabel('Fare')"
   ]
  },
  {
   "cell_type": "markdown",
   "metadata": {},
   "source": [
    "The fares, however, seem to be high betweeb 5AM and 10AM, and 1PM to 4PM. Maybe people who live far away prefer to leave earlier to avoid rush hour traffic"
   ]
  },
  {
   "cell_type": "markdown",
   "metadata": {},
   "source": [
    "### 3. Does the day of the week affect the fare"
   ]
  },
  {
   "cell_type": "code",
   "execution_count": null,
   "metadata": {},
   "outputs": [],
   "source": [
    "plt.figure(figsize=(15,7))\n",
    "plt.hist(train['Day of Week'], bins=100)\n",
    "plt.xlabel('Day of Week')\n",
    "plt.ylabel('Frequency')"
   ]
  },
  {
   "cell_type": "markdown",
   "metadata": {},
   "source": [
    "Day of the week doesn't seem to have that much of an influence on the number of cab rides"
   ]
  },
  {
   "cell_type": "code",
   "execution_count": null,
   "metadata": {},
   "outputs": [],
   "source": [
    "plt.figure(figsize=(15,7))\n",
    "plt.scatter(x=train['Day of Week'], y=train['fare_amount'])\n",
    "plt.xlabel('Day of Week')\n",
    "plt.ylabel('Fare')"
   ]
  },
  {
   "cell_type": "markdown",
   "metadata": {},
   "source": [
    "The highest fares seem to be on a Sunday and Monday, and the lowest on Wednesday and Friday. Maybe people travel far distances on Sunday and Monday (visiting family and returning back home), and hence, the high fares. And guess people just want to stay at home on a Friday"
   ]
  },
  {
   "cell_type": "code",
   "execution_count": null,
   "metadata": {
    "scrolled": true
   },
   "outputs": [],
   "source": [
    "bins_0 = train.loc[(train['H_Distance'] == 0), ['H_Distance']]\n",
    "bins_1 = train.loc[(train['H_Distance'] > 0) & (train['H_Distance'] <= 10),['H_Distance']]\n",
    "bins_2 = train.loc[(train['H_Distance'] > 10) & (train['H_Distance'] <= 50),['H_Distance']]\n",
    "bins_3 = train.loc[(train['H_Distance'] > 50) & (train['H_Distance'] <= 100),['H_Distance']]\n",
    "bins_4 = train.loc[(train['H_Distance'] > 100) & (train['H_Distance'] <= 200),['H_Distance']]\n",
    "bins_5 = train.loc[(train['H_Distance'] > 200) & (train['H_Distance'] <= 300),['H_Distance']]\n",
    "bins_6 = train.loc[(train['H_Distance'] > 300),['H_Distance']]"
   ]
  },
  {
   "cell_type": "code",
   "execution_count": null,
   "metadata": {},
   "outputs": [],
   "source": [
    "bins_0['bins'] = '0'\n",
    "bins_1['bins'] = '0-10'\n",
    "bins_2['bins'] = '11-50'\n",
    "bins_3['bins'] = '51-100'\n",
    "bins_4['bins'] = '100-200'\n",
    "bins_5['bins'] = '201-300'\n",
    "bins_6['bins'] = '>300'"
   ]
  },
  {
   "cell_type": "code",
   "execution_count": null,
   "metadata": {},
   "outputs": [],
   "source": [
    "dist_bins =pd.concat([bins_0,bins_1,bins_2,bins_3,bins_4,bins_5,bins_6])"
   ]
  },
  {
   "cell_type": "code",
   "execution_count": null,
   "metadata": {},
   "outputs": [],
   "source": [
    "dist_bins.columns"
   ]
  },
  {
   "cell_type": "code",
   "execution_count": null,
   "metadata": {},
   "outputs": [],
   "source": [
    "dist_bins.head()"
   ]
  },
  {
   "cell_type": "code",
   "execution_count": null,
   "metadata": {
    "scrolled": true
   },
   "outputs": [],
   "source": [
    "Counter(dist_bins['bins'])"
   ]
  },
  {
   "cell_type": "markdown",
   "metadata": {},
   "source": [
    "There are values which are greater than 100 kms! In NYC I am not sure why people would take cabs to travel more than a 100 kms. Since the number of bins for 100-200 kms is quite high, I will keep these. \n",
    "\n",
    "These outliers could be because of typos or missing values in the latitude or longitude.\n",
    "\n",
    "Remove fields of the following"
   ]
  },
  {
   "cell_type": "markdown",
   "metadata": {},
   "source": [
    "* Pickup latitude and pickup longitude are 0 but dropoff latitude and longitude are not 0, but the fare is 0\n",
    "* vice versa of point 1.\n",
    "* Pickup latitude and pickup longitude are 0 but dropoff latitude and longitude are not 0, but the fare is NOT 0. Here I will have to impute the distance values in both the train and test data."
   ]
  },
  {
   "cell_type": "code",
   "execution_count": null,
   "metadata": {},
   "outputs": [],
   "source": [
    "#pickup latitude and longitude = 0\n",
    "train.loc[((train['pickup_latitude']==0) & (train['pickup_longitude']==0))&((train['dropoff_latitude']!=0) & (train['dropoff_longitude']!=0)) & (train['fare_amount']==0)]"
   ]
  },
  {
   "cell_type": "code",
   "execution_count": null,
   "metadata": {},
   "outputs": [],
   "source": [
    "train = train.drop(train.loc[((train['pickup_latitude']==0) & (train['pickup_longitude']==0))&((train['dropoff_latitude']!=0) & (train['dropoff_longitude']!=0)) & (train['fare_amount']==0)].index, axis=0)"
   ]
  },
  {
   "cell_type": "code",
   "execution_count": null,
   "metadata": {},
   "outputs": [],
   "source": [
    "train.shape"
   ]
  },
  {
   "cell_type": "code",
   "execution_count": null,
   "metadata": {},
   "outputs": [],
   "source": [
    "#Check in test data\n",
    "test.loc[((test['pickup_latitude']==0) & (test['pickup_longitude']==0))&((test['dropoff_latitude']!=0) & (test['dropoff_longitude']!=0))]"
   ]
  },
  {
   "cell_type": "code",
   "execution_count": null,
   "metadata": {},
   "outputs": [],
   "source": [
    "#dropoff latitude and longitude = 0\n",
    "train.loc[((train['pickup_latitude']!=0) & (train['pickup_longitude']!=0))&((train['dropoff_latitude']==0) & (train['dropoff_longitude']==0)) & (train['fare_amount']==0)]"
   ]
  },
  {
   "cell_type": "code",
   "execution_count": null,
   "metadata": {},
   "outputs": [],
   "source": [
    "train = train.drop(train.loc[((train['pickup_latitude']!=0) & (train['pickup_longitude']!=0))&((train['dropoff_latitude']==0) & (train['dropoff_longitude']==0)) & (train['fare_amount']==0)].index, axis=0)"
   ]
  },
  {
   "cell_type": "code",
   "execution_count": null,
   "metadata": {},
   "outputs": [],
   "source": [
    "train.shape"
   ]
  },
  {
   "cell_type": "code",
   "execution_count": null,
   "metadata": {},
   "outputs": [],
   "source": [
    "#Checking test data\n",
    "\n",
    "test.loc[((test['pickup_latitude']!=0) & (test['pickup_longitude']!=0))&((test['dropoff_latitude']==0) & (test['dropoff_longitude']==0))]"
   ]
  },
  {
   "cell_type": "markdown",
   "metadata": {},
   "source": [
    "Check the H_Distance fields which are greater than 200 kms cause there is no way that people would travel more than 200 kms at the most in NYC in a CAB!"
   ]
  },
  {
   "cell_type": "code",
   "execution_count": null,
   "metadata": {},
   "outputs": [],
   "source": [
    "high_distance = train.loc[(train['H_Distance']>200)&(train['fare_amount']!=0)]"
   ]
  },
  {
   "cell_type": "code",
   "execution_count": null,
   "metadata": {},
   "outputs": [],
   "source": [
    "high_distance"
   ]
  },
  {
   "cell_type": "code",
   "execution_count": null,
   "metadata": {},
   "outputs": [],
   "source": [
    "high_distance.shape"
   ]
  },
  {
   "cell_type": "markdown",
   "metadata": {},
   "source": [
    "However, since all these values have fares, I do not wish to drop them as they contain crucial data. Instead, I will replace the initial distance values with distance values calculated using the fare using the following formula\n",
    "\n",
    "distance = (fare_amount - 2.5)/1.56"
   ]
  },
  {
   "cell_type": "code",
   "execution_count": null,
   "metadata": {
    "scrolled": true
   },
   "outputs": [],
   "source": [
    "high_distance['H_Distance'] = high_distance.apply(lambda row: (row['fare_amount'] - 2.50)/1.56,axis=1)"
   ]
  },
  {
   "cell_type": "code",
   "execution_count": null,
   "metadata": {
    "scrolled": true
   },
   "outputs": [],
   "source": [
    "#The distance values have been replaced by the newly calculated ones according to the fare\n",
    "high_distance"
   ]
  },
  {
   "cell_type": "code",
   "execution_count": null,
   "metadata": {},
   "outputs": [],
   "source": [
    "#sync the train data with the newly computed distance values from high_distance dataframe\n",
    "train.update(high_distance)"
   ]
  },
  {
   "cell_type": "code",
   "execution_count": null,
   "metadata": {},
   "outputs": [],
   "source": [
    "train.shape"
   ]
  },
  {
   "cell_type": "markdown",
   "metadata": {},
   "source": [
    "Now we shall check for rows where the distance values are 0"
   ]
  },
  {
   "cell_type": "code",
   "execution_count": null,
   "metadata": {
    "scrolled": true
   },
   "outputs": [],
   "source": [
    "train[train['H_Distance']==0]"
   ]
  },
  {
   "cell_type": "markdown",
   "metadata": {},
   "source": [
    "We can see a few rows with distance =0. This could be due to 2 reasons\n",
    "\n",
    "1. The cab waited the whole time and the passenger eventually cancelled. That's why the pickup and drop co-ordinates are the same and maybe, the passenger was charged for the waiting time.\n",
    "2. The pickup and drop co-ordinates were not entered. In other words, these are missing values!"
   ]
  },
  {
   "cell_type": "markdown",
   "metadata": {},
   "source": [
    "28667 rows are too many rows to be deleted. We need to impute these missing values. I have a plan. I intend to impute the missing distance values with the fare and average price per kilometer of NYC cabs.\n",
    "\n",
    "A quick Google search gave me the following prices -\n",
    "\n",
    "* $$2.5 base-price + $1.56/km --> 6AM to 8PM Mon-Fri\n",
    "\n",
    "* $$3.0 base-price + $1.56/km --> 8PM to 6AM Mon-Fri and Sat&Sun\n",
    "\n",
    "However, before we proceed with the above steps, lets check for the following scenarios to impute the missing fare amount and the H_Distance in train data."
   ]
  },
  {
   "cell_type": "markdown",
   "metadata": {},
   "source": [
    "#### SCENARIO 1\n",
    "\n",
    "Fare and Distance are both 0. According to the table above, we shall delete them as they do not provide us any info with regards to the data."
   ]
  },
  {
   "cell_type": "code",
   "execution_count": null,
   "metadata": {
    "scrolled": true
   },
   "outputs": [],
   "source": [
    "train[(train['H_Distance']==0)&(train['fare_amount']==0)]"
   ]
  },
  {
   "cell_type": "code",
   "execution_count": null,
   "metadata": {},
   "outputs": [],
   "source": [
    "train = train.drop(train[(train['H_Distance']==0)&(train['fare_amount']==0)].index, axis = 0)"
   ]
  },
  {
   "cell_type": "code",
   "execution_count": null,
   "metadata": {},
   "outputs": [],
   "source": [
    "train[(train['H_Distance']==0)].shape"
   ]
  },
  {
   "cell_type": "markdown",
   "metadata": {},
   "source": [
    "#### SCENARIO 2\n",
    "\n",
    "Fare is not 0 and is less than the base amount, but Distance is 0.\n",
    "\n",
    "Delete these rows as the minimum is $2.50, and these fares are incorrect values."
   ]
  },
  {
   "cell_type": "code",
   "execution_count": null,
   "metadata": {},
   "outputs": [],
   "source": [
    "#Between 6AM and 8PM on Mon-Fri\n",
    "rush_hour = train.loc[(((train['Hour']>=6)&(train['Hour']<=20)) & ((train['Day of Week']>=1) & (train['Day of Week']<=5)) & (train['H_Distance']==0) & (train['fare_amount'] < 2.5))]\n",
    "rush_hour"
   ]
  },
  {
   "cell_type": "code",
   "execution_count": null,
   "metadata": {},
   "outputs": [],
   "source": [
    "train=train.drop(rush_hour.index, axis=0)"
   ]
  },
  {
   "cell_type": "code",
   "execution_count": null,
   "metadata": {
    "scrolled": true
   },
   "outputs": [],
   "source": [
    "#Between 8PM and 6AM on Mon-Fri\n",
    "non_rush_hour = train.loc[(((train['Hour']<6)|(train['Hour']>20)) & ((train['Day of Week']>=1)&(train['Day of Week']<=5)) & (train['H_Distance']==0) & (train['fare_amount'] < 3.0))]\n",
    "#print(Counter(non_work_hours['Hour']))\n",
    "#print(Counter(non_work_hours['Day of Week']))\n",
    "non_rush_hour"
   ]
  },
  {
   "cell_type": "code",
   "execution_count": null,
   "metadata": {},
   "outputs": [],
   "source": [
    "Counter(non_rush_hour['fare_amount']<2.5)"
   ]
  },
  {
   "cell_type": "markdown",
   "metadata": {},
   "source": [
    "Since the fare_amount is not <2.5 (which is the base fare), these values seem legit to me."
   ]
  },
  {
   "cell_type": "code",
   "execution_count": null,
   "metadata": {},
   "outputs": [],
   "source": [
    "#Saturday and Sunday all hours\n",
    "weekends = train.loc[((train['Day of Week']==0) | (train['Day of Week']==6)) & (train['H_Distance']==0) & (train['fare_amount'] < 3.0)]\n",
    "weekends"
   ]
  },
  {
   "cell_type": "code",
   "execution_count": null,
   "metadata": {},
   "outputs": [],
   "source": [
    "#Counter(weekends['fa']<2.5)\n",
    "Counter(weekends['fare_amount']<2.5)"
   ]
  },
  {
   "cell_type": "markdown",
   "metadata": {},
   "source": [
    "#### SCENARIO 3\n",
    "\n",
    "Fare is 0, but Distance is not 0. These values need to be imputed.\n",
    "\n",
    "we can calculate the fare as I have the distance. I shall use the following formula\n",
    "\n",
    "fare = 2.5 + 1.56(H_Distance)"
   ]
  },
  {
   "cell_type": "code",
   "execution_count": null,
   "metadata": {
    "scrolled": true
   },
   "outputs": [],
   "source": [
    "scenario_3 =train.loc[(train['H_Distance']!=0) & (train['fare_amount']==0)]"
   ]
  },
  {
   "cell_type": "code",
   "execution_count": null,
   "metadata": {},
   "outputs": [],
   "source": [
    "len(scenario_3)"
   ]
  },
  {
   "cell_type": "code",
   "execution_count": null,
   "metadata": {},
   "outputs": [],
   "source": [
    "scenario_3['fare_amount'] = scenario_3.apply(lambda row: ((row['H_Distance'] * 1.56) + 2.50), axis=1)"
   ]
  },
  {
   "cell_type": "code",
   "execution_count": null,
   "metadata": {},
   "outputs": [],
   "source": [
    "scenario_3['fare_amount']"
   ]
  },
  {
   "cell_type": "code",
   "execution_count": null,
   "metadata": {},
   "outputs": [],
   "source": [
    "train.update(scenario_3)"
   ]
  },
  {
   "cell_type": "code",
   "execution_count": null,
   "metadata": {},
   "outputs": [],
   "source": [
    "train.shape"
   ]
  },
  {
   "cell_type": "markdown",
   "metadata": {},
   "source": [
    "#### SCENARIO 4\n",
    "\n",
    "Fare is not 0, but Distance is 0. These values need to be imputed."
   ]
  },
  {
   "cell_type": "code",
   "execution_count": null,
   "metadata": {},
   "outputs": [],
   "source": [
    "scenario_4=train.loc[(train['H_Distance']==0) & (train['fare_amount']!=0)]\n",
    "scenario_4"
   ]
  },
  {
   "cell_type": "code",
   "execution_count": null,
   "metadata": {},
   "outputs": [],
   "source": [
    "len(scenario_4)"
   ]
  },
  {
   "cell_type": "code",
   "execution_count": null,
   "metadata": {},
   "outputs": [],
   "source": [
    "#Using our prior knowledge about the base price during weekdays and weekends for the cabs.\n",
    "#I do not want to impute these 1502 values as they are legible ones.\n",
    "scenario_4.loc[(scenario_4['fare_amount']<2.5)&(scenario_4['H_Distance']==0)]"
   ]
  },
  {
   "cell_type": "code",
   "execution_count": null,
   "metadata": {
    "scrolled": true
   },
   "outputs": [],
   "source": [
    "scenario_4.loc[(scenario_4['fare_amount']>3.0)&(scenario_4['H_Distance']==0)]"
   ]
  },
  {
   "cell_type": "code",
   "execution_count": null,
   "metadata": {},
   "outputs": [],
   "source": [
    "len(scenario_4.loc[(scenario_4['fare_amount']>3.0)&(scenario_4['H_Distance']==0)])"
   ]
  },
  {
   "cell_type": "markdown",
   "metadata": {},
   "source": [
    "27159 rows need to be imputed using the following formula -\n",
    "\n",
    "distance = (fare_amount - 2.5)/1.56"
   ]
  },
  {
   "cell_type": "code",
   "execution_count": null,
   "metadata": {},
   "outputs": [],
   "source": [
    "scenario_4_sub = scenario_4.loc[(scenario_4['fare_amount']>3.0)&(scenario_4['H_Distance']==0)]"
   ]
  },
  {
   "cell_type": "code",
   "execution_count": null,
   "metadata": {},
   "outputs": [],
   "source": [
    "len(scenario_4_sub)"
   ]
  },
  {
   "cell_type": "code",
   "execution_count": null,
   "metadata": {},
   "outputs": [],
   "source": [
    "scenario_4_sub['H_Distance'] = scenario_4_sub.apply(lambda row: ((row['fare_amount']-2.50)/1.56), axis=1)\n"
   ]
  },
  {
   "cell_type": "code",
   "execution_count": null,
   "metadata": {},
   "outputs": [],
   "source": [
    "train.update(scenario_4_sub)"
   ]
  },
  {
   "cell_type": "code",
   "execution_count": null,
   "metadata": {
    "scrolled": true
   },
   "outputs": [],
   "source": [
    "train.shape"
   ]
  },
  {
   "cell_type": "code",
   "execution_count": null,
   "metadata": {},
   "outputs": [],
   "source": [
    "#not including the pickup_datetime columns as datetime columns cannot be directly used while modelling. Features need to extracted from the \n",
    "#timestamp fields which will later be used as features for modelling.\n",
    "train = train.drop(['key','pickup_datetime'], axis = 1)\n",
    "test = test.drop(['key','pickup_datetime'], axis = 1)"
   ]
  },
  {
   "cell_type": "markdown",
   "metadata": {},
   "source": [
    "### MODELLING AND PREDICTION"
   ]
  },
  {
   "cell_type": "code",
   "execution_count": null,
   "metadata": {},
   "outputs": [],
   "source": [
    "train.columns"
   ]
  },
  {
   "cell_type": "code",
   "execution_count": null,
   "metadata": {},
   "outputs": [],
   "source": [
    "test.columns"
   ]
  },
  {
   "cell_type": "code",
   "execution_count": null,
   "metadata": {},
   "outputs": [],
   "source": [
    "train_df, test_df = train_test_split(train, test_size = 0.2)"
   ]
  },
  {
   "cell_type": "code",
   "execution_count": null,
   "metadata": {},
   "outputs": [],
   "source": [
    "x_train = train_df.iloc[:,train.columns!='fare_amount']\n",
    "y_train = train_df['fare_amount'].values"
   ]
  },
  {
   "cell_type": "code",
   "execution_count": null,
   "metadata": {},
   "outputs": [],
   "source": [
    "X_test  = test_df.drop(\"fare_amount\", axis=1)\n",
    "Y_test = test_df[\"fare_amount\"]"
   ]
  },
  {
   "cell_type": "code",
   "execution_count": null,
   "metadata": {
    "scrolled": true
   },
   "outputs": [],
   "source": [
    " x_train.shape,y_train.shape,X_test.shape,Y_test.shape"
   ]
  },
  {
   "cell_type": "markdown",
   "metadata": {},
   "source": [
    "## RandomForest"
   ]
  },
  {
   "cell_type": "code",
   "execution_count": null,
   "metadata": {},
   "outputs": [],
   "source": [
    "from sklearn.ensemble import RandomForestRegressor\n",
    "rf = RandomForestRegressor()\n",
    "rf.fit(x_train, y_train)"
   ]
  },
  {
   "cell_type": "markdown",
   "metadata": {},
   "source": [
    "predict tes data"
   ]
  },
  {
   "cell_type": "code",
   "execution_count": null,
   "metadata": {},
   "outputs": [],
   "source": [
    "y_randomf=rf.predict(X_test)"
   ]
  },
  {
   "cell_type": "code",
   "execution_count": null,
   "metadata": {
    "scrolled": false
   },
   "outputs": [],
   "source": [
    "print(np.sqrt(mean_squared_error(Y_test,y_randomf)))"
   ]
  },
  {
   "cell_type": "code",
   "execution_count": null,
   "metadata": {},
   "outputs": [],
   "source": [
    ".."
   ]
  },
  {
   "cell_type": "code",
   "execution_count": null,
   "metadata": {},
   "outputs": [],
   "source": [
    "from sklearn.model_selection import cross_val_score\n",
    "accuracies = cross_val_score(estimator=rf, X=x_train, y=y_train, cv=10)\n",
    "accuracies.mean()\n",
    "accuracies.std()\n"
   ]
  },
  {
   "cell_type": "code",
   "execution_count": null,
   "metadata": {},
   "outputs": [],
   "source": [
    "plt.figure(figsize=(15,7))\n",
    "plt.scatter(Y_test,y_randomf)\n",
    "plt.show()"
   ]
  },
  {
   "cell_type": "code",
   "execution_count": null,
   "metadata": {},
   "outputs": [],
   "source": [
    "from sklearn.model_selection import cross_val_score\n",
    "accuracies = cross_val_score(estimator=rf, X=x_train, y=y_train, cv=50)\n",
    "accuracies"
   ]
  },
  {
   "cell_type": "code",
   "execution_count": null,
   "metadata": {
    "scrolled": false
   },
   "outputs": [],
   "source": [
    "corr_df=x_train.corr(method='pearson')\n",
    "corr_df"
   ]
  },
  {
   "cell_type": "code",
   "execution_count": null,
   "metadata": {},
   "outputs": [],
   "source": [
    "import seaborn\n",
    "seaborn.heatmap(corr_df,cmap='RdYlGn_r',vmax=1.0,vmin=-1.0,linewidth=2.5)\n",
    "plt.show"
   ]
  },
  {
   "cell_type": "code",
   "execution_count": null,
   "metadata": {},
   "outputs": [],
   "source": [
    "corr=train.corr(method=\"pearson\")\n",
    "seaborn.heatmap(corr,vmax=1.0,vmin=-1.0,linewidth=3)\n",
    "plt.show()"
   ]
  },
  {
   "cell_type": "code",
   "execution_count": null,
   "metadata": {},
   "outputs": [],
   "source": []
  }
 ],
 "metadata": {
  "kernelspec": {
   "display_name": "Python 3",
   "language": "python",
   "name": "python3"
  },
  "language_info": {
   "codemirror_mode": {
    "name": "ipython",
    "version": 3
   },
   "file_extension": ".py",
   "mimetype": "text/x-python",
   "name": "python",
   "nbconvert_exporter": "python",
   "pygments_lexer": "ipython3",
   "version": "3.6.4"
  }
 },
 "nbformat": 4,
 "nbformat_minor": 2
}
